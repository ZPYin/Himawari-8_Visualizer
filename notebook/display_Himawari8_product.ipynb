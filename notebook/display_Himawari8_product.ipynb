{
 "cells": [
  {
   "cell_type": "code",
   "execution_count": 1,
   "metadata": {},
   "outputs": [],
   "source": [
    "import os\n",
    "import numpy as np\n",
    "from netCDF4 import Dataset\n",
    "import matplotlib.pyplot as plt\n",
    "from cartopy.mpl.ticker import LongitudeFormatter, LatitudeFormatter\n",
    "import cartopy.crs as ccrs\n",
    "import cartopy.feature as cfeature"
   ]
  },
  {
   "cell_type": "markdown",
   "metadata": {},
   "source": [
    "This example will guide you through visualizing the aerosol optical thickness from Himawari-8 products.\n",
    "\n",
    "You can find [here](../doc/2018_A_Yamashita.pdf) detailed description about this product."
   ]
  },
  {
   "cell_type": "code",
   "execution_count": 2,
   "metadata": {},
   "outputs": [],
   "source": [
    "projectDir = os.path.dirname(os.path.abspath(os.curdir))\n",
    "latRange = [0, 55]   # latitude range\n",
    "lonRange = [100, 160]   # longitude range\n",
    "axLatRange = latRange\n",
    "axLonRange = lonRange\n",
    "CLP_file = 'NC_H08_20200219_0400_L2ARP021_FLDK.02401_02401.nc'   # Aerosol Property file\n",
    "product = 'AOT'   # product\n",
    "vmin = 0   # minimun AOT for display\n",
    "vmax = 1   # maximum AOT for display"
   ]
  },
  {
   "cell_type": "markdown",
   "metadata": {},
   "source": [
    "The product was saved in [netCDF4](https://www.unidata.ucar.edu/software/netcdf/) file. \n",
    "\n",
    "Below is the metadata for the AOT:\n",
    "```text\n",
    "short AOT(latitude=2401, longitude=2401);\n",
    "  :long_name = \"Aerosol optical thickness\";\n",
    "  :units = \"Dimensionless\";\n",
    "  :valid_min = 0S; // short\n",
    "  :valid_max = 25000S; // short\n",
    "  :scale_factor = 2.0E-4f; // float\n",
    "  :add_offset = 0.0f; // float\n",
    "  :missing_value = -32768S; // short\n",
    "  :_ChunkSizes = 1201U, 1201U; // uint\n",
    "```"
   ]
  },
  {
   "cell_type": "code",
   "execution_count": 3,
   "metadata": {},
   "outputs": [],
   "source": [
    "fd = Dataset(os.path.join(projectDir, 'data', CLP_file), 'r')\n",
    "\n",
    "fd.variables.keys()\n",
    "lat = fd.variables['latitude'][:]\n",
    "lon = fd.variables['longitude'][:]\n",
    "\n",
    "mask_lat = np.logical_and(lat >= latRange[0], lat <= latRange[1])\n",
    "mask_lon = np.logical_and(lon >= lonRange[0], lon <= lonRange[1])\n",
    "\n",
    "dataRect = fd.variables[product][:, mask_lon][mask_lat]\n",
    "\n",
    "latRect = lat[mask_lat]\n",
    "lonRect = lon[mask_lon]"
   ]
  },
  {
   "cell_type": "code",
   "execution_count": 4,
   "metadata": {},
   "outputs": [],
   "source": [
    "# Load the border data, CN-border-La.dat is downloaded from\n",
    "# https://gmt-china.org/data/CN-border-La.dat\n",
    "with open(os.path.join(projectDir, 'include', 'CN-border-La.dat')) as src:\n",
    "    context = src.read()\n",
    "    blocks = [cnt for cnt in context.split('>') if len(cnt) > 0]\n",
    "    borders = [np.fromstring(block, dtype=float, sep=' ') for block in blocks]"
   ]
  },
  {
   "cell_type": "code",
   "execution_count": 5,
   "metadata": {},
   "outputs": [],
   "source": [
    "# Set figure size\n",
    "fig = plt.figure(figsize=[10, 8])\n",
    "\n",
    "# Set projection and plot the main figure\n",
    "ax = plt.axes(projection=ccrs.PlateCarree())\n",
    "\n",
    "# Add ocean, land, rivers and lakes\n",
    "ax.add_feature(cfeature.OCEAN.with_scale('50m'))\n",
    "ax.add_feature(cfeature.LAND.with_scale('50m'))\n",
    "ax.add_feature(cfeature.RIVERS.with_scale('50m'))\n",
    "ax.add_feature(cfeature.LAKES.with_scale('50m'))\n",
    "\n",
    "# # Plot border lines\n",
    "# for line in borders:\n",
    "#     ax.plot(line[0::2], line[1::2], '-', lw=1, color='k',\n",
    "#             transform=ccrs.Geodetic())\n",
    "\n",
    "# Plot the AOT\n",
    "LON, LAT = np.meshgrid(lonRect, latRect)\n",
    "pcmesh = plt.pcolormesh(LON, LAT, dataRect, vmin=vmin, vmax=vmax, transform=ccrs.PlateCarree(), cmap='jet')\n",
    "\n",
    "# Plot the longitude and latitude ticks\n",
    "ax.set_xticks(np.linspace(axLonRange[0], axLonRange[1], 5, endpoint=True))\n",
    "ax.set_yticks(np.linspace(axLatRange[0], axLatRange[1], 5, endpoint=True))\n",
    "lon_formatter = LongitudeFormatter(number_format='.1f',\n",
    "                                   degree_symbol='',\n",
    "                                   dateline_direction_label=True)\n",
    "lat_formatter = LatitudeFormatter(number_format='.1f',\n",
    "                                  degree_symbol='')\n",
    "ax.xaxis.set_major_formatter(lon_formatter)\n",
    "ax.yaxis.set_major_formatter(lat_formatter)\n",
    "ax.set_title(getattr(fd.variables[product], 'long_name'))\n",
    "# Set figure extent\n",
    "ax.set_ylim(axLatRange)\n",
    "ax.set_xlim(axLonRange)\n",
    "\n",
    "# Add colorbar\n",
    "cb_ax = fig.add_axes([0.93, 0.20, 0.02, 0.65])\n",
    "cbar = fig.colorbar(\n",
    "    pcmesh, cax=cb_ax,\n",
    "    ticks=np.linspace(0, 20, 5, endpoint=True),\n",
    "    orientation='vertical'\n",
    "    )\n",
    "cbar.ax.tick_params(direction='out', labelsize=15, pad=5)\n",
    "cbar.ax.set_title('km', fontsize=10)\n",
    "\n",
    "# Show figure\n",
    "plt.show()"
   ]
  }
 ],
 "metadata": {
  "file_extension": ".py",
  "kernelspec": {
   "display_name": "Python 3.6.10 64-bit ('pyHimawari8': conda)",
   "language": "python",
   "name": "python361064bitpyhimawari8conda648fc99f38f6412db97236eae1a46ac8"
  },
  "language_info": {
   "codemirror_mode": {
    "name": "ipython",
    "version": 3
   },
   "file_extension": ".py",
   "mimetype": "text/x-python",
   "name": "python",
   "nbconvert_exporter": "python",
   "pygments_lexer": "ipython3",
   "version": "3.6.10-final"
  },
  "mimetype": "text/x-python",
  "name": "python",
  "npconvert_exporter": "python",
  "pygments_lexer": "ipython3",
  "version": 3
 },
 "nbformat": 4,
 "nbformat_minor": 2
}